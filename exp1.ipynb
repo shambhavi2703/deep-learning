{
 "cells": [
  {
   "cell_type": "markdown",
   "metadata": {
    "id": "uK6JJPbds7ZK"
   },
   "source": [
    "<h1><center>EXPERIMENT 1</center></h1>\n",
    "AIM : To design a densenet for temperature conversion.\n",
    "<br>\n",
    "Theory :This is a simple temperature conversion problem where we need to convert temperature values from Celsius to Fahrenheit. The formula for the conversion is:\n",
    "\n",
    "$$ f = c \\times 1.8 + 32 $$\n",
    "\n",
    "Where f is the temperature in Fahrenheit and c is the temperature in Celsius.\n",
    "\n",
    "We can use this formula to create a machine learning model that can learn to perform the temperature conversion automatically. The input to the model will be the temperature in Celsius and the output will be the temperature in Fahrenheit.\n",
    "\n",
    "To build this model, we can use a deep learning framework such as Keras or PyTorch. We will define a neural network architecture that can learn the mapping between Celsius and Fahrenheit temperatures. We will then train the model using a dataset of Celsius and Fahrenheit temperature pairs. Once the model is trained, we can use it to convert temperatures from Celsius to Fahrenheit.\n",
    "\n",
    "\n",
    "\n"
   ]
  },
  {
   "cell_type": "code",
   "execution_count": null,
   "metadata": {
    "id": "z_yn59SHia-j"
   },
   "outputs": [],
   "source": [
    "import tensorflow as tf"
   ]
  },
  {
   "cell_type": "code",
   "execution_count": null,
   "metadata": {
    "id": "GCD02TsfimAN"
   },
   "outputs": [],
   "source": [
    "import numpy as np\n",
    "import logging\n",
    "logger = tf.get_logger()\n",
    "logger.setLevel(logging.ERROR)"
   ]
  },
  {
   "cell_type": "code",
   "execution_count": null,
   "metadata": {
    "colab": {
     "base_uri": "https://localhost:8080/"
    },
    "id": "WtTxhfYHioNr",
    "outputId": "8c0d5362-a88f-4ef9-bd22-92a9cf1f47f3"
   },
   "outputs": [
    {
     "name": "stdout",
     "output_type": "stream",
     "text": [
      "-40.0 degrees Celsius = -40.0 degrees Fahrenheit\n",
      "-10.0 degrees Celsius = 14.0 degrees Fahrenheit\n",
      "0.0 degrees Celsius = 32.0 degrees Fahrenheit\n",
      "8.0 degrees Celsius = 46.0 degrees Fahrenheit\n",
      "15.0 degrees Celsius = 59.0 degrees Fahrenheit\n",
      "22.0 degrees Celsius = 72.0 degrees Fahrenheit\n",
      "38.0 degrees Celsius = 100.0 degrees Fahrenheit\n"
     ]
    }
   ],
   "source": [
    "celsius_q    = np.array([-40, -10,  0,  8, 15, 22,  38],  dtype=float)\n",
    "fahrenheit_a = np.array([-40,  14, 32, 46, 59, 72, 100],  dtype=float)\n",
    "\n",
    "for i,c in enumerate(celsius_q):\n",
    "  print(\"{} degrees Celsius = {} degrees Fahrenheit\".format(c, fahrenheit_a[i]))\n"
   ]
  },
  {
   "cell_type": "markdown",
   "metadata": {
    "id": "UC0A5xmnvSu-"
   },
   "source": [
    "\n",
    "\n",
    "### Build a layer\n",
    "\n",
    "We'll call the layer dense_layer and create it by instantiating tf.keras.layers.Dense with the following configuration:\n",
    "\n",
    "input_shape=[1] — This specifies that the input to this layer is a single value. The input shape is a one-dimensional array with one member, representing degrees Celsius.\n",
    "\n",
    "units=1 — This specifies the number of neurons in the layer. The number of neurons defines how many internal variables the layer has to learn how to solve the problem. Since this is the final layer, it is also the size of the model's output — a single float value representing degrees Fahrenheit. (In a multi-layered network, the size and shape of the layer would need to match the input_shape of the next layer.)"
   ]
  },
  {
   "cell_type": "code",
   "execution_count": null,
   "metadata": {
    "id": "XEZLzif3iqIK"
   },
   "outputs": [],
   "source": [
    "l0 = tf.keras.layers.Dense(units=1, input_shape=[1])"
   ]
  },
  {
   "cell_type": "code",
   "execution_count": null,
   "metadata": {
    "id": "mnvfIF0UjUhs"
   },
   "outputs": [],
   "source": [
    "model = tf.keras.Sequential([l0])"
   ]
  },
  {
   "cell_type": "code",
   "execution_count": null,
   "metadata": {
    "id": "b3clDyexj3xu"
   },
   "outputs": [],
   "source": [
    "model.compile(loss='mean_squared_error',\n",
    "              optimizer=tf.keras.optimizers.Adam(0.1))"
   ]
  },
  {
   "cell_type": "code",
   "execution_count": null,
   "metadata": {
    "colab": {
     "base_uri": "https://localhost:8080/"
    },
    "id": "3VdblBAKkbaW",
    "outputId": "c4f251db-6dd6-43ce-df6a-3d38e5260193"
   },
   "outputs": [
    {
     "name": "stdout",
     "output_type": "stream",
     "text": [
      "Finished training the model\n"
     ]
    }
   ],
   "source": [
    "history = model.fit(celsius_q, fahrenheit_a, epochs=500, verbose=False)\n",
    "print(\"Finished training the model\")"
   ]
  },
  {
   "cell_type": "code",
   "execution_count": null,
   "metadata": {
    "colab": {
     "base_uri": "https://localhost:8080/",
     "height": 466
    },
    "id": "g3uqs4Gxkmon",
    "outputId": "2260324e-b8d9-4933-fd56-5aa51e0b6dce"
   },
   "outputs": [
    {
     "data": {
      "text/plain": [
       "[<matplotlib.lines.Line2D at 0x7f43743b9610>]"
      ]
     },
     "execution_count": 55,
     "metadata": {},
     "output_type": "execute_result"
    },
    {
     "data": {
      "image/png": "[encoded data removed]",
      "text/plain": [
       "<Figure size 640x480 with 1 Axes>"
      ]
     },
     "metadata": {},
     "output_type": "display_data"
    }
   ],
   "source": [
    "import matplotlib.pyplot as plt\n",
    "plt.xlabel('Epoch Number')\n",
    "plt.ylabel(\"Loss Magnitude\")\n",
    "plt.plot(history.history['loss'])\n"
   ]
  },
  {
   "cell_type": "code",
   "execution_count": null,
   "metadata": {
    "colab": {
     "base_uri": "https://localhost:8080/"
    },
    "id": "8DEX2hwQkqWp",
    "outputId": "66d92817-e346-4356-f81b-501b62033f98"
   },
   "outputs": [
    {
     "name": "stdout",
     "output_type": "stream",
     "text": [
      "1/1 [==============================] - 0s 47ms/step\n",
      "[[211.2942]]\n"
     ]
    }
   ],
   "source": [
    "print(model.predict([100.0]))"
   ]
  },
  {
   "cell_type": "code",
   "execution_count": null,
   "metadata": {
    "colab": {
     "base_uri": "https://localhost:8080/"
    },
    "id": "D9CgsQa1o11m",
    "outputId": "73a862bd-e527-4283-98d6-34c4f887b0d3"
   },
   "outputs": [
    {
     "name": "stdout",
     "output_type": "stream",
     "text": [
      "These are the layer variables: [array([[1.8264538]], dtype=float32), array([28.648817], dtype=float32)]\n"
     ]
    }
   ],
   "source": [
    "print(\"These are the layer variables: {}\".format(l0.get_weights()))\n"
   ]
  },
  {
   "cell_type": "code",
   "execution_count": null,
   "metadata": {
    "colab": {
     "base_uri": "https://localhost:8080/"
    },
    "id": "TbhDXtyCp_Kl",
    "outputId": "2a30d5ed-d995-40b3-ba31-d22910141786"
   },
   "outputs": [
    {
     "name": "stdout",
     "output_type": "stream",
     "text": [
      "Finished training the model\n"
     ]
    }
   ],
   "source": [
    "l0 = tf.keras.layers.Dense(units=4, input_shape=[1])\n",
    "l1 = tf.keras.layers.Dense(units=4)\n",
    "l2 = tf.keras.layers.Dense(units=1)\n",
    "model = tf.keras.Sequential([l0, l1, l2])\n",
    "model.compile(loss='mean_squared_error', optimizer=tf.keras.optimizers.Adam(0.1))\n",
    "model.fit(celsius_q, fahrenheit_a, epochs=500, verbose=False)\n",
    "print(\"Finished training the model\")\n"
   ]
  },
  {
   "cell_type": "code",
   "execution_count": null,
   "metadata": {
    "colab": {
     "base_uri": "https://localhost:8080/"
    },
    "id": "zX0CBaE6sskA",
    "outputId": "566cee4f-7d37-42bb-bdbb-d996661c2e21"
   },
   "outputs": [
    {
     "name": "stdout",
     "output_type": "stream",
     "text": [
      "1/1 [==============================] - 0s 51ms/step\n",
      "[[211.74742]]\n"
     ]
    }
   ],
   "source": [
    "print(model.predict([100.0]))\n"
   ]
  },
  {
   "cell_type": "code",
   "execution_count": null,
   "metadata": {
    "colab": {
     "base_uri": "https://localhost:8080/"
    },
    "id": "FrJIOcA1svDh",
    "outputId": "66f39154-884d-414e-f8bf-c04b14f95fa2"
   },
   "outputs": [
    {
     "name": "stdout",
     "output_type": "stream",
     "text": [
      "1/1 [==============================] - 0s 31ms/step\n",
      "Model predicts that 100 degrees Celsius is: [[211.74742]] degrees Fahrenheit\n"
     ]
    }
   ],
   "source": [
    "print(\"Model predicts that 100 degrees Celsius is: {} degrees Fahrenheit\".format(model.predict([100.0])))\n"
   ]
  },
  {
   "cell_type": "code",
   "execution_count": null,
   "metadata": {
    "colab": {
     "base_uri": "https://localhost:8080/"
    },
    "id": "4E6WFCpPsyxp",
    "outputId": "1373c7f1-4dba-455a-8169-058cf9d702b3"
   },
   "outputs": [
    {
     "name": "stdout",
     "output_type": "stream",
     "text": [
      "These are the l0 variables: [array([[ 0.25324577,  0.4978347 ,  0.48615384, -0.30057806]],\n",
      "      dtype=float32), array([3.7800424, 3.3303688, 3.5950694, 1.237869 ], dtype=float32)]\n"
     ]
    }
   ],
   "source": [
    "print(\"These are the l0 variables: {}\".format(l0.get_weights()))\n"
   ]
  },
  {
   "cell_type": "code",
   "execution_count": null,
   "metadata": {
    "colab": {
     "base_uri": "https://localhost:8080/"
    },
    "id": "6dWn8twps3Fo",
    "outputId": "3111eefb-564b-40ca-bbd4-e0b51abfff99"
   },
   "outputs": [
    {
     "name": "stdout",
     "output_type": "stream",
     "text": [
      "These are the l1 variables: [array([[-0.9064313 , -0.09061737, -0.9726168 , -1.2036011 ],\n",
      "       [-0.31967413, -1.0553517 ,  0.21863523, -0.7811919 ],\n",
      "       [ 0.19654493, -0.91571885, -0.14733505, -1.2610987 ],\n",
      "       [-0.5170539 , -0.7200074 , -0.0821071 , -0.10510622]],\n",
      "      dtype=float32), array([-3.596507 , -2.9752142, -3.5511813, -3.141436 ], dtype=float32)]\n"
     ]
    }
   ],
   "source": [
    "print(\"These are the l1 variables: {}\".format(l1.get_weights()))\n"
   ]
  },
  {
   "cell_type": "code",
   "execution_count": null,
   "metadata": {
    "colab": {
     "base_uri": "https://localhost:8080/"
    },
    "id": "DbamS6fws4ks",
    "outputId": "8d9884f8-a449-4538-c968-49eb0a1cf738"
   },
   "outputs": [
    {
     "name": "stdout",
     "output_type": "stream",
     "text": [
      "These are the l2 variables: [array([[-0.62968755],\n",
      "       [-0.7377334 ],\n",
      "       [-0.39507434],\n",
      "       [-0.8352153 ]], dtype=float32), array([3.4658916], dtype=float32)]\n"
     ]
    }
   ],
   "source": [
    "print(\"These are the l2 variables: {}\".format(l2.get_weights()))"
   ]
  },
  {
   "cell_type": "markdown",
   "metadata": {
    "id": "AZ51fxglyhDg"
   },
   "source": [
    "Conclusion :Based on the results of the model evaluation and testing, we can conclude that the model is successful in converting Celsius to Fahrenheit"
   ]
  }
 ],
 "metadata": {
  "colab": {
   "provenance": []
  },
  "kernelspec": {
   "display_name": "Python 3 (ipykernel)",
   "language": "python",
   "name": "python3"
  },
  "language_info": {
   "codemirror_mode": {
    "name": "ipython",
    "version": 3
   },
   "file_extension": ".py",
   "mimetype": "text/x-python",
   "name": "python",
   "nbconvert_exporter": "python",
   "pygments_lexer": "ipython3",
   "version": "3.9.12"
  }
 },
 "nbformat": 4,
 "nbformat_minor": 1
}
